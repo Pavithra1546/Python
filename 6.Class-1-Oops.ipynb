{
 "cells": [
  {
   "cell_type": "code",
   "execution_count": 1,
   "metadata": {},
   "outputs": [],
   "source": [
    "class multipleFunctions():\n",
    "    def oddEven():\n",
    "        num=int(input(\"Enter the number:\"))\n",
    "        if((num%2)==0):\n",
    "            print(\"Even number\")\n",
    "            message=\"Even number\"\n",
    "        else:\n",
    "            print(\"Odd number\")\n",
    "            message=\"Odd number\"\n",
    "        return message\n",
    "\n",
    "\n",
    "    def BMI():\n",
    "        bmi=int(input(\"Enter the BMI Index:\"))\n",
    "        if(bmi<18.5):\n",
    "            print(\"Underweight\")\n",
    "            message=\"Underweight\"\n",
    "        elif(bmi<=24.9):\n",
    "            print(\"Normal\")\n",
    "            message=\"Normal\"\n",
    "        elif(bmi<=29.9):\n",
    "            print(\"Overweight\")\n",
    "            message=\"Overweight\"\n",
    "        else:\n",
    "            print(\"Very Overweight\")\n",
    "            message=\"Very Overweight\"\n",
    "        return message"
   ]
  },
  {
   "cell_type": "code",
   "execution_count": 2,
   "metadata": {},
   "outputs": [
    {
     "name": "stdout",
     "output_type": "stream",
     "text": [
      "Enter the BMI Index:34\n",
      "Very Overweight\n"
     ]
    },
    {
     "data": {
      "text/plain": [
       "'Very Overweight'"
      ]
     },
     "execution_count": 2,
     "metadata": {},
     "output_type": "execute_result"
    }
   ],
   "source": [
    "multipleFunctions.BMI()"
   ]
  },
  {
   "cell_type": "code",
   "execution_count": 3,
   "metadata": {},
   "outputs": [
    {
     "name": "stdout",
     "output_type": "stream",
     "text": [
      "Enter the number:5\n",
      "Odd number\n"
     ]
    },
    {
     "data": {
      "text/plain": [
       "'Odd number'"
      ]
     },
     "execution_count": 3,
     "metadata": {},
     "output_type": "execute_result"
    }
   ],
   "source": [
    "multipleFunctions.oddEven()"
   ]
  },
  {
   "cell_type": "code",
   "execution_count": null,
   "metadata": {},
   "outputs": [],
   "source": []
  }
 ],
 "metadata": {
  "kernelspec": {
   "display_name": "Python 3",
   "language": "python",
   "name": "python3"
  },
  "language_info": {
   "codemirror_mode": {
    "name": "ipython",
    "version": 3
   },
   "file_extension": ".py",
   "mimetype": "text/x-python",
   "name": "python",
   "nbconvert_exporter": "python",
   "pygments_lexer": "ipython3",
   "version": "3.7.4"
  }
 },
 "nbformat": 4,
 "nbformat_minor": 2
}
